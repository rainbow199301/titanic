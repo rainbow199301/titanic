{
  "nbformat": 4,
  "nbformat_minor": 0,
  "metadata": {
    "colab": {
      "name": "專題實作01.ipynb",
      "provenance": [],
      "authorship_tag": "ABX9TyNPdiAUp2412u7DNbUSHqXr",
      "include_colab_link": true
    },
    "kernelspec": {
      "name": "python3",
      "display_name": "Python 3"
    },
    "language_info": {
      "name": "python"
    }
  },
  "cells": [
    {
      "cell_type": "markdown",
      "metadata": {
        "id": "view-in-github",
        "colab_type": "text"
      },
      "source": [
        "<a href=\"https://colab.research.google.com/github/rainbow199301/titanic/blob/main/%E5%B0%88%E9%A1%8C%E5%AF%A6%E4%BD%9C01.ipynb\" target=\"_parent\"><img src=\"https://colab.research.google.com/assets/colab-badge.svg\" alt=\"Open In Colab\"/></a>"
      ]
    },
    {
      "cell_type": "code",
      "execution_count": null,
      "metadata": {
        "id": "cVvvW_1iTHOV"
      },
      "outputs": [],
      "source": [
        ""
      ]
    }
  ]
}